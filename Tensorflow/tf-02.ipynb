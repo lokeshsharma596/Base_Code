{
 "cells": [
  {
   "cell_type": "code",
   "execution_count": 2,
   "metadata": {},
   "outputs": [],
   "source": [
    "import tensorflow as tf"
   ]
  },
  {
   "cell_type": "code",
   "execution_count": 10,
   "metadata": {},
   "outputs": [],
   "source": [
    "const=tf.constant(10)"
   ]
  },
  {
   "cell_type": "code",
   "execution_count": 11,
   "metadata": {},
   "outputs": [],
   "source": [
    "string=tf.constant(\"Lokesh\")"
   ]
  },
  {
   "cell_type": "code",
   "execution_count": 5,
   "metadata": {},
   "outputs": [],
   "source": [
    "zeros=tf.zeros((4,4))"
   ]
  },
  {
   "cell_type": "code",
   "execution_count": 6,
   "metadata": {},
   "outputs": [],
   "source": [
    "ones=tf.ones((4,4))"
   ]
  },
  {
   "cell_type": "code",
   "execution_count": 7,
   "metadata": {},
   "outputs": [],
   "source": [
    "randn=tf.random_normal((4,4),mean=0.0,stddev=1.0)"
   ]
  },
  {
   "cell_type": "code",
   "execution_count": 9,
   "metadata": {},
   "outputs": [],
   "source": [
    "randu=tf.random_uniform((4,4),minval=0.0,maxval=1.0)"
   ]
  },
  {
   "cell_type": "code",
   "execution_count": 12,
   "metadata": {},
   "outputs": [],
   "source": [
    "mat=[const,string,zeros,ones,randn,randu]"
   ]
  },
  {
   "cell_type": "code",
   "execution_count": 13,
   "metadata": {},
   "outputs": [],
   "source": [
    "sess = tf.InteractiveSession()"
   ]
  },
  {
   "cell_type": "code",
   "execution_count": 16,
   "metadata": {},
   "outputs": [
    {
     "name": "stdout",
     "output_type": "stream",
     "text": [
      "10\n",
      "\n",
      "\n",
      "b'Lokesh'\n",
      "\n",
      "\n",
      "[[0. 0. 0. 0.]\n",
      " [0. 0. 0. 0.]\n",
      " [0. 0. 0. 0.]\n",
      " [0. 0. 0. 0.]]\n",
      "\n",
      "\n",
      "[[1. 1. 1. 1.]\n",
      " [1. 1. 1. 1.]\n",
      " [1. 1. 1. 1.]\n",
      " [1. 1. 1. 1.]]\n",
      "\n",
      "\n",
      "[[ 1.7479227   1.039212   -0.8272115  -0.27596122]\n",
      " [ 1.016581   -0.85719985 -0.5205489  -0.31362268]\n",
      " [ 1.0189314   0.7328869  -1.119774    0.6432117 ]\n",
      " [ 0.4713666  -0.4929382  -0.520072    0.2092591 ]]\n",
      "\n",
      "\n",
      "[[0.6279514  0.8227067  0.68083954 0.15375972]\n",
      " [0.70921624 0.01674306 0.00506043 0.29088628]\n",
      " [0.76854587 0.7808422  0.42990005 0.29765892]\n",
      " [0.6018611  0.8383049  0.29407144 0.52379346]]\n",
      "\n",
      "\n"
     ]
    }
   ],
   "source": [
    "for op in mat:\n",
    "    print(sess.run(op))\n",
    "    print('\\n')"
   ]
  },
  {
   "cell_type": "code",
   "execution_count": 18,
   "metadata": {},
   "outputs": [
    {
     "name": "stdout",
     "output_type": "stream",
     "text": [
      "10\n",
      "b'Lokesh'\n",
      "[[0. 0. 0. 0.]\n",
      " [0. 0. 0. 0.]\n",
      " [0. 0. 0. 0.]\n",
      " [0. 0. 0. 0.]]\n",
      "[[1. 1. 1. 1.]\n",
      " [1. 1. 1. 1.]\n",
      " [1. 1. 1. 1.]\n",
      " [1. 1. 1. 1.]]\n",
      "[[ 1.2327474   0.4868338  -1.0029768  -0.30377382]\n",
      " [ 0.937805   -1.3072459  -0.48327848 -0.97522044]\n",
      " [ 1.2025226   0.42054254 -0.9652709  -0.6769528 ]\n",
      " [-1.8099891   1.1332657   0.6521404   0.5725198 ]]\n",
      "[[0.5407139  0.16649568 0.03448391 0.22446883]\n",
      " [0.69254315 0.6105273  0.34278572 0.71644735]\n",
      " [0.76811576 0.37286544 0.24208641 0.19110215]\n",
      " [0.4628569  0.75366914 0.8838694  0.12946463]]\n"
     ]
    }
   ],
   "source": [
    "for op in mat:\n",
    "    print(op.eval())"
   ]
  },
  {
   "cell_type": "code",
   "execution_count": null,
   "metadata": {},
   "outputs": [],
   "source": []
  },
  {
   "cell_type": "code",
   "execution_count": null,
   "metadata": {},
   "outputs": [],
   "source": []
  },
  {
   "cell_type": "code",
   "execution_count": null,
   "metadata": {},
   "outputs": [],
   "source": []
  }
 ],
 "metadata": {
  "kernelspec": {
   "display_name": "Python 3",
   "language": "python",
   "name": "python3"
  },
  "language_info": {
   "codemirror_mode": {
    "name": "ipython",
    "version": 3
   },
   "file_extension": ".py",
   "mimetype": "text/x-python",
   "name": "python",
   "nbconvert_exporter": "python",
   "pygments_lexer": "ipython3",
   "version": "3.7.4"
  }
 },
 "nbformat": 4,
 "nbformat_minor": 2
}
